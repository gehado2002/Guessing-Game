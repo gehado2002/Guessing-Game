{
 "cells": [
  {
   "cell_type": "markdown",
   "id": "21a2bd5e",
   "metadata": {},
   "source": [
    "# Project 1 Guessing Game "
   ]
  },
  {
   "cell_type": "markdown",
   "id": "3d918cd7",
   "metadata": {},
   "source": [
    " Guessing Game Project Description"
   ]
  },
  {
   "cell_type": "markdown",
   "id": "3b149a2f",
   "metadata": {},
   "source": [
    "* **`First: You ask the user to set the game level:`**\n",
    "  * *(1) Easy*: \n",
    "    * Limits : [1 - 10]  \n",
    "    * No. of trials : 3\n",
    "  * *(2) Intermediate*: \n",
    "    * Limits : [1 - 100] \n",
    "    * No. of trials : 7\n",
    "  * *(3) Hard* :  \n",
    "    * Limits : [1 - 1000] \n",
    "    * No. of trials : 15\n",
    "\n",
    "* **`Second: set the game settings according to the game level:`**\n",
    "  * set the `guess` to a number within the limits using `random` module \n",
    "  * set the number of trials: `n_trials` \n",
    "\n",
    "* **`Finally: Play the game:`**\n",
    "  * Ask the user to guess the number:\n",
    "    * If he guessed it successfully : `print('Congratulations, you achieved it in {user_trials} trial') `\n",
    "    * if he failed:\n",
    "      * user_trials < n_trials: till him (Increase) or (Decrease)\n",
    "      * user_trials = n_trials: `print('You Lose!')`"
   ]
  },
  {
   "cell_type": "markdown",
   "id": "2bf8c595",
   "metadata": {},
   "source": [
    "## Show the game levels"
   ]
  },
  {
   "cell_type": "code",
   "execution_count": 1,
   "id": "c4386400",
   "metadata": {},
   "outputs": [],
   "source": [
    "def show_levels():\n",
    "  set_game_level=print(\"\"\"(1) Easy:\n",
    "\\tLimits : [1 - 10]\n",
    "\\tNo. of trials : 3\n",
    "(2) Intermediate:\n",
    "\\tLimits : [1 - 100]\n",
    "\\tNo. of trials : 7\n",
    "(3) Hard :\n",
    "\\tLimits : [1 - 1000]\n",
    "\\tNo. of trials : 15\n",
    "\\t\"\"\")\n"
   ]
  },
  {
   "cell_type": "markdown",
   "id": "7892e2f3",
   "metadata": {},
   "source": [
    "## Ask the user for the game level"
   ]
  },
  {
   "cell_type": "code",
   "execution_count": 2,
   "id": "7745c52e",
   "metadata": {},
   "outputs": [],
   "source": [
    "def game_level_choice():\n",
    "    game_level=input(\"\"\"Enter the game level :\n",
    "    (1) Easy \t (2) Intermediate \t (3) Hard \t\\t\"\"\")\n",
    "    return game_level "
   ]
  },
  {
   "cell_type": "markdown",
   "id": "a6d8f67b",
   "metadata": {},
   "source": [
    "## Set the game settings according to the game level:"
   ]
  },
  {
   "cell_type": "code",
   "execution_count": 3,
   "id": "d923915e",
   "metadata": {},
   "outputs": [],
   "source": [
    "import random\n",
    "def set_game_settings(game_level):\n",
    "    if game_level == \"1\":\n",
    "        limits=random.randint(1,10)\n",
    "        n_trials=3\n",
    "    elif game_level == \"2\":\n",
    "        limits=random.randint(1,100)\n",
    "        n_trials=7\n",
    "    elif game_level == \"3\":\n",
    "        limits=random.randint(1,1000)\n",
    "        n_trials=15\n",
    "    else :\n",
    "        print(\"invalid level\")\n",
    "    return limits, n_trials"
   ]
  },
  {
   "cell_type": "markdown",
   "id": "875a471a",
   "metadata": {},
   "source": [
    "## Start Playing"
   ]
  },
  {
   "cell_type": "code",
   "execution_count": 4,
   "id": "e480d7de",
   "metadata": {},
   "outputs": [],
   "source": [
    "def start_play(limits, n_trials):\n",
    "    user_trials=1\n",
    "    while True:\n",
    "        guess_number=int(input(\"I have a hidden number, guess it : \"))\n",
    "        if guess_number == limits :\n",
    "            print(f'You got it successfully in {user_trials} trials')\n",
    "            break\n",
    "        elif guess_number > limits and user_trials<n_trials:\n",
    "            print(\"No, decrease!\")\n",
    "        elif guess_number < limits and user_trials<n_trials:\n",
    "            print(\"No, Increase!\")\n",
    "        elif user_trials == n_trials:\n",
    "            print('You Lose!')\n",
    "            break\n",
    "        user_trials+=1"
   ]
  },
  {
   "cell_type": "markdown",
   "id": "1e14a87f",
   "metadata": {},
   "source": [
    "## Let's Play"
   ]
  },
  {
   "cell_type": "code",
   "execution_count": null,
   "id": "1a36456c",
   "metadata": {},
   "outputs": [],
   "source": [
    "def play():\n",
    "  show_levels()\n",
    "  game_level = game_level_choice()\n",
    "  limits, n_trials = set_game_settings(game_level)\n",
    "  start_play(limits, n_trials)"
   ]
  },
  {
   "cell_type": "code",
   "execution_count": null,
   "id": "9eb6a631",
   "metadata": {},
   "outputs": [],
   "source": [
    "play()"
   ]
  },
  {
   "cell_type": "code",
   "execution_count": null,
   "id": "30776ff2",
   "metadata": {},
   "outputs": [],
   "source": []
  }
 ],
 "metadata": {
  "kernelspec": {
   "display_name": "Python 3 (ipykernel)",
   "language": "python",
   "name": "python3"
  },
  "language_info": {
   "codemirror_mode": {
    "name": "ipython",
    "version": 3
   },
   "file_extension": ".py",
   "mimetype": "text/x-python",
   "name": "python",
   "nbconvert_exporter": "python",
   "pygments_lexer": "ipython3",
   "version": "3.10.9"
  }
 },
 "nbformat": 4,
 "nbformat_minor": 5
}
